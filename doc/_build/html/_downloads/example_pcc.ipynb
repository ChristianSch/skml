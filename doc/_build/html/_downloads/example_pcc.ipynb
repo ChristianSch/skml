{
  "cells": [
    {
      "cell_type": "code",
      "execution_count": null,
      "metadata": {
        "collapsed": false
      },
      "outputs": [],
      "source": [
        "%matplotlib inline"
      ]
    },
    {
      "cell_type": "markdown",
      "metadata": {},
      "source": [
        "\n# Probabilistic Classifier Chain Example\n\n\nAn example of :class:`skml.problem_transformation.ProbabilisticClassifierChain`\n\n"
      ]
    },
    {
      "cell_type": "code",
      "execution_count": null,
      "metadata": {
        "collapsed": false
      },
      "outputs": [],
      "source": [
        "from sklearn.metrics import hamming_loss\nfrom sklearn.metrics import accuracy_score\nfrom sklearn.metrics import f1_score\nfrom sklearn.metrics import precision_score\nfrom sklearn.metrics import recall_score\nfrom sklearn.model_selection import train_test_split\nfrom sklearn.linear_model import LogisticRegression\nimport numpy as np\n\nfrom skml.problem_transformation import ProbabilisticClassifierChain\nfrom skml.datasets import load_dataset\n\n\nX, y = load_dataset('yeast')\n# sample down the label space to make the example faster.\n# you shouldn't do this on your own data though!\ny = y[:, :6]\n\nX_train, X_test, y_train, y_test = train_test_split(X, y)\n\npcc = ProbabilisticClassifierChain(LogisticRegression())\npcc.fit(X_train, y_train)\ny_pred = pcc.predict(X_test)\n\n\nprint(\"hamming loss: \")\nprint(hamming_loss(y_test, y_pred))\n\nprint(\"accuracy:\")\nprint(accuracy_score(y_test, y_pred))\n\nprint(\"f1 score:\")\nprint(\"micro\")\nprint(f1_score(y_test, y_pred, average='micro'))\nprint(\"macro\")\nprint(f1_score(y_test, y_pred, average='macro'))\n\nprint(\"precision:\")\nprint(\"micro\")\nprint(precision_score(y_test, y_pred, average='micro'))\nprint(\"macro\")\nprint(precision_score(y_test, y_pred, average='macro'))\n\nprint(\"recall:\")\nprint(\"micro\")\nprint(recall_score(y_test, y_pred, average='micro'))\nprint(\"macro\")\nprint(recall_score(y_test, y_pred, average='macro'))"
      ]
    }
  ],
  "metadata": {
    "kernelspec": {
      "display_name": "Python 3",
      "language": "python",
      "name": "python3"
    },
    "language_info": {
      "codemirror_mode": {
        "name": "ipython",
        "version": 3
      },
      "file_extension": ".py",
      "mimetype": "text/x-python",
      "name": "python",
      "nbconvert_exporter": "python",
      "pygments_lexer": "ipython3",
      "version": "3.6.4"
    }
  },
  "nbformat": 4,
  "nbformat_minor": 0
}