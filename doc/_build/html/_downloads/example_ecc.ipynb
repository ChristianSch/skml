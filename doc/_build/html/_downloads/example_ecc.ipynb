{
  "nbformat_minor": 0, 
  "nbformat": 4, 
  "cells": [
    {
      "execution_count": null, 
      "cell_type": "code", 
      "source": [
        "%matplotlib inline"
      ], 
      "outputs": [], 
      "metadata": {
        "collapsed": false
      }
    }, 
    {
      "source": [
        "\n# Ensemble Classifier Chain Example\n\n\nAn example of :class:`skml.ensemble.EnsembleClassifierChain`\n\n"
      ], 
      "cell_type": "markdown", 
      "metadata": {}
    }, 
    {
      "execution_count": null, 
      "cell_type": "code", 
      "source": [
        "from sklearn.metrics import hamming_loss\nfrom sklearn.metrics import accuracy_score\nfrom sklearn.metrics import f1_score\nfrom sklearn.metrics import precision_score\nfrom sklearn.metrics import recall_score\nfrom sklearn.ensemble import RandomForestClassifier\nimport numpy as np\n\n\nfrom skml.ensemble import EnsembleClassifierChain\nfrom skml.datasets import load_dataset\n\nX, y = load_dataset('yeast')\nensemble = EnsembleClassifierChain(RandomForestClassifier(),\n                                   threshold=.5,\n                                   max_features=1.0)\nensemble.fit(X, y)\ny_pred = ensemble.predict(X)\nprint y.shape\nprint y_pred.shape\n\nprint \"hamming loss: \"\nprint hamming_loss(y, y_pred)\n\nprint \"accuracy:\"\nprint accuracy_score(y, y_pred)\n\nprint \"f1 score:\"\nprint \"micro\"\nprint f1_score(y, y_pred, average='micro')\nprint \"macro\"\nprint f1_score(y, y_pred, average='macro')\n\nprint \"precision:\"\nprint \"micro\"\nprint precision_score(y, y_pred, average='micro')\nprint \"macro\"\nprint precision_score(y, y_pred, average='macro')\n\nprint \"recall:\"\nprint \"micro\"\nprint recall_score(y, y_pred, average='micro')\nprint \"macro\"\nprint recall_score(y, y_pred, average='macro')"
      ], 
      "outputs": [], 
      "metadata": {
        "collapsed": false
      }
    }
  ], 
  "metadata": {
    "kernelspec": {
      "display_name": "Python 2", 
      "name": "python2", 
      "language": "python"
    }, 
    "language_info": {
      "mimetype": "text/x-python", 
      "nbconvert_exporter": "python", 
      "name": "python", 
      "file_extension": ".py", 
      "version": "2.7.10", 
      "pygments_lexer": "ipython2", 
      "codemirror_mode": {
        "version": 2, 
        "name": "ipython"
      }
    }
  }
}