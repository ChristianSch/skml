{
  "cells": [
    {
      "cell_type": "code",
      "execution_count": null,
      "metadata": {
        "collapsed": false
      },
      "outputs": [],
      "source": [
        "%matplotlib inline"
      ]
    },
    {
      "cell_type": "markdown",
      "metadata": {},
      "source": [
        "\n# Ensemble Classifier Chain Example\n\n\nAn example of :class:`skml.ensemble.EnsembleClassifierChain`\n\n"
      ]
    },
    {
      "cell_type": "code",
      "execution_count": null,
      "metadata": {
        "collapsed": false
      },
      "outputs": [],
      "source": [
        "from sklearn.metrics import hamming_loss\nfrom sklearn.metrics import accuracy_score\nfrom sklearn.metrics import f1_score\nfrom sklearn.metrics import precision_score\nfrom sklearn.metrics import recall_score\nfrom sklearn.model_selection import train_test_split\nfrom sklearn.ensemble import RandomForestClassifier\nimport numpy as np\n\n\nfrom skml.ensemble import EnsembleClassifierChain\nfrom skml.datasets import load_dataset\n\nX, y = load_dataset('yeast')\nX_train, X_test, y_train, y_test = train_test_split(X, y)\n\nensemble = EnsembleClassifierChain(RandomForestClassifier())\nensemble.fit(X, y)\ny_pred = ensemble.predict(X)\n\nprint(\"hamming loss: \")\nprint(hamming_loss(y, y_pred))\n\nprint(\"accuracy:\")\nprint(accuracy_score(y, y_pred))\n\nprint(\"f1 score:\")\nprint(\"micro\")\nprint(f1_score(y, y_pred, average='micro'))\nprint(\"macro\")\nprint(f1_score(y, y_pred, average='macro'))\n\nprint(\"precision:\")\nprint(\"micro\")\nprint(precision_score(y, y_pred, average='micro'))\nprint(\"macro\")\nprint(precision_score(y, y_pred, average='macro'))\n\nprint(\"recall:\")\nprint(\"micro\")\nprint(recall_score(y, y_pred, average='micro'))\nprint(\"macro\")\nprint(recall_score(y, y_pred, average='macro'))"
      ]
    }
  ],
  "metadata": {
    "kernelspec": {
      "display_name": "Python 3",
      "language": "python",
      "name": "python3"
    },
    "language_info": {
      "codemirror_mode": {
        "name": "ipython",
        "version": 3
      },
      "file_extension": ".py",
      "mimetype": "text/x-python",
      "name": "python",
      "nbconvert_exporter": "python",
      "pygments_lexer": "ipython3",
      "version": "3.6.4"
    }
  },
  "nbformat": 4,
  "nbformat_minor": 0
}